{
 "cells": [
  {
   "cell_type": "markdown",
   "id": "4cd0728d",
   "metadata": {},
   "source": [
    "# Countdown Numbers Game"
   ]
  },
  {
   "cell_type": "markdown",
   "id": "306d0d94",
   "metadata": {},
   "source": [
    "***"
   ]
  },
  {
   "cell_type": "markdown",
   "id": "74757568",
   "metadata": {},
   "source": [
    "## Overview and explanation"
   ]
  },
  {
   "cell_type": "code",
   "execution_count": null,
   "id": "259ff0e1",
   "metadata": {},
   "outputs": [],
   "source": []
  },
  {
   "cell_type": "markdown",
   "id": "f75975de",
   "metadata": {},
   "source": [
    "## Discussion of the complexity"
   ]
  },
  {
   "cell_type": "code",
   "execution_count": null,
   "id": "860ce7a2",
   "metadata": {},
   "outputs": [],
   "source": []
  },
  {
   "cell_type": "markdown",
   "id": "351da21c",
   "metadata": {},
   "source": [
    "## Pyton function to solve a Countdown numbers game"
   ]
  },
  {
   "cell_type": "markdown",
   "id": "22261e9b",
   "metadata": {},
   "source": [
    "The function should take a list of six numbers and a target\n",
    "number and return a method to calculate the target from the numbers, if it exists."
   ]
  },
  {
   "cell_type": "code",
   "execution_count": null,
   "id": "08a3f2ff",
   "metadata": {},
   "outputs": [],
   "source": []
  },
  {
   "cell_type": "markdown",
   "id": "cbb9b1a0",
   "metadata": {},
   "source": [
    "## Explanation of the functional aspects of the code"
   ]
  },
  {
   "cell_type": "code",
   "execution_count": null,
   "id": "27cda989",
   "metadata": {},
   "outputs": [],
   "source": []
  },
  {
   "cell_type": "markdown",
   "id": "9ce8d70f",
   "metadata": {},
   "source": [
    "***"
   ]
  }
 ],
 "metadata": {
  "kernelspec": {
   "display_name": "Python 3",
   "language": "python",
   "name": "python3"
  },
  "language_info": {
   "codemirror_mode": {
    "name": "ipython",
    "version": 3
   },
   "file_extension": ".py",
   "mimetype": "text/x-python",
   "name": "python",
   "nbconvert_exporter": "python",
   "pygments_lexer": "ipython3",
   "version": "3.8.8"
  }
 },
 "nbformat": 4,
 "nbformat_minor": 5
}
