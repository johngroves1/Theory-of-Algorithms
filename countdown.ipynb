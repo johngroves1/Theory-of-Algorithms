{
 "cells": [
  {
   "cell_type": "markdown",
   "id": "bd5d59d8",
   "metadata": {},
   "source": [
    "\n",
    "<img src = img/countdown.png\n",
    "svg.png width = \"500\" height = \"700\" >"
   ]
  },
  {
   "cell_type": "markdown",
   "id": "94fe5e5f",
   "metadata": {},
   "source": [
    "# Countdown Numbers Game"
   ]
  },
  {
   "cell_type": "markdown",
   "id": "306d0d94",
   "metadata": {},
   "source": [
    "***"
   ]
  },
  {
   "cell_type": "markdown",
   "id": "74757568",
   "metadata": {},
   "source": [
    "## Overview and explanation"
   ]
  },
  {
   "cell_type": "markdown",
   "id": "0ec1782f",
   "metadata": {},
   "source": [
    "### What is it?\n"
   ]
  },
  {
   "cell_type": "markdown",
   "id": "8fc93bf3",
   "metadata": {},
   "source": [
    "Countdown is a British game show of letters, words and numbers. In the numbers part of the game the players must try to combine six selected numbers using the four elementary mathematical operations to get as close as possilbe to the randomly generated three-digit target number."
   ]
  },
  {
   "cell_type": "markdown",
   "id": "b8297924",
   "metadata": {},
   "source": [
    "### The rules"
   ]
  },
  {
   "cell_type": "markdown",
   "id": "c7b80204",
   "metadata": {},
   "source": [
    "A contestant starts the numbers game by first picking how many small or large numbers they would like to make up the six numbers. There are 20 small numbers available ranging between 1 and 10 twice and 4 large numbers available, being 25, 50, 75 and 100. All large numbers must be different, so at most 4 large numbers can be chosen. The target number is randomly generated between the range of 101 to 999, the contestants must use basic arithemtic (+, -, × , ÷)on the generated numbers to get as close as possible to the target number, fractions or negative integers are not allowed in any stage of the calculation. You can use as many of the six selected numbers as you want, but can only use each number once."
   ]
  },
  {
   "cell_type": "markdown",
   "id": "f75975de",
   "metadata": {},
   "source": [
    "## Discussion of the complexity"
   ]
  },
  {
   "cell_type": "code",
   "execution_count": null,
   "id": "860ce7a2",
   "metadata": {},
   "outputs": [],
   "source": []
  },
  {
   "cell_type": "markdown",
   "id": "351da21c",
   "metadata": {},
   "source": [
    "## Pyton function to solve a Countdown numbers game"
   ]
  },
  {
   "cell_type": "markdown",
   "id": "22261e9b",
   "metadata": {},
   "source": [
    "The function should take a list of six numbers and a target\n",
    "number and return a method to calculate the target from the numbers, if it exists."
   ]
  },
  {
   "cell_type": "markdown",
   "id": "ef022174",
   "metadata": {},
   "source": [
    "## Simulate a game"
   ]
  },
  {
   "cell_type": "code",
   "execution_count": 3,
   "id": "08a3f2ff",
   "metadata": {},
   "outputs": [],
   "source": [
    "# For random numbers and samples.\n",
    "import random\n",
    "\n",
    "def new_numbers_game(no_large=None):\n",
    "    \"\"\" Returns six numbers and a target number representing a Countdown numbers game.\n",
    "    \"\"\"\n",
    "    # If no_large is None, randomly pick value between 0 and 4 inclusive.\n",
    "    if no_large is None:\n",
    "        # Randomly set the value.\n",
    "        no_large = random.randrange(0, 5)\n",
    "        \n",
    "    # Select random large numbers.\n",
    "    large_rand = random.sample([25, 50, 75, 100], no_large)\n",
    "    # Select random small numbers.\n",
    "    small_rand = random.sample(list(range(1, 11)) * 2, 6 - no_large)\n",
    "    # The playing numbers.\n",
    "    play_num = large_rand + small_rand\n",
    "    \n",
    "        \n",
    "    # Select a target number.\n",
    "    target = random.randrange(101, 1000)\n",
    "    \n",
    "    # Return the game.\n",
    "    return play_num, target"
   ]
  },
  {
   "cell_type": "code",
   "execution_count": 12,
   "id": "f78d3f56",
   "metadata": {
    "scrolled": true
   },
   "outputs": [
    {
     "data": {
      "text/plain": [
       "([100, 4, 2, 2, 3, 8], 714)"
      ]
     },
     "execution_count": 12,
     "metadata": {},
     "output_type": "execute_result"
    }
   ],
   "source": [
    "# Random numbers game.\n",
    "play_num, target = new_numbers_game()\n",
    "play_num, target"
   ]
  },
  {
   "cell_type": "markdown",
   "id": "cf09018a",
   "metadata": {},
   "source": [
    "## The solution"
   ]
  },
  {
   "cell_type": "code",
   "execution_count": 26,
   "id": "5ad4c841",
   "metadata": {},
   "outputs": [],
   "source": [
    "# Give all 2-partitions of a list \n",
    "# where each sublist has one element.\n",
    "def patterns(numbers, operators):\n",
    "    # Check if there is no way to partition further.\n",
    "    if len(numbers) == 1:\n",
    "        yield numbers\n",
    "    # Loop through all the ways to partition L into two non-empty sublists\n",
    "    for i in range(1, len(numbers)):\n",
    "        # Slice the list using i.\n",
    "        for left, right in it.product(patterns(numbers[:i], operators[1:i]), patterns(numbers[i:], operators[i:])):\n",
    "            # Yield the next operator applied to the sublists.\n",
    "            yield [*left, *right, operators[0]]"
   ]
  },
  {
   "cell_type": "code",
   "execution_count": 27,
   "id": "20ca3a82",
   "metadata": {},
   "outputs": [],
   "source": [
    "def eval_rpn(rpn):\n",
    "    # A stack.\n",
    "    stack = []\n",
    "    # Loop through rpn an item at a time.\n",
    "    for i in rpn:\n",
    "        # Check if it's a number.\n",
    "        if isinstance(i, int):\n",
    "            # Append to the stack.\n",
    "            stack = stack + [i]\n",
    "        else:\n",
    "            # Pop from stack twice.\n",
    "            right = stack[-1]\n",
    "            stack = stack[:-1]\n",
    "            left = stack[-1]\n",
    "            stack = stack[:-1]\n",
    "            # Push operator applied to stack elements.\n",
    "            stack = stack + [i(left, right)]\n",
    "            \n",
    "    # Should only be one item on stack.\n",
    "    return stack[0]"
   ]
  },
  {
   "cell_type": "code",
   "execution_count": 28,
   "id": "f668b5e5",
   "metadata": {},
   "outputs": [
    {
     "data": {
      "text/plain": [
       "[56,\n",
       " 56,\n",
       " 72,\n",
       " 96,\n",
       " 96,\n",
       " 126,\n",
       " 126,\n",
       " 100,\n",
       " 144,\n",
       " 76,\n",
       " 76,\n",
       " 108,\n",
       " 140,\n",
       " 140,\n",
       " 389,\n",
       " 389,\n",
       " 393,\n",
       " 399,\n",
       " 399,\n",
       " 213,\n",
       " 213,\n",
       " 205,\n",
       " 205,\n",
       " 11,\n",
       " 411,\n",
       " 395,\n",
       " 199,\n",
       " 215,\n",
       " -292,\n",
       " -292,\n",
       " 108,\n",
       " 508,\n",
       " 508,\n",
       " 680,\n",
       " 680,\n",
       " 478,\n",
       " 518,\n",
       " 284,\n",
       " 284,\n",
       " 308,\n",
       " 320,\n",
       " 320]"
      ]
     },
     "execution_count": 28,
     "metadata": {},
     "output_type": "execute_result"
    }
   ],
   "source": [
    "import itertools as it\n",
    "\n",
    "# Operators as functions.\n",
    "import operator\n",
    "\n",
    "# Example operators\n",
    "operators = [operator.add, operator.mul, operator.sub, operator.add, operator.add]\n",
    "\n",
    "# Using eval, which mightn't be great\n",
    "list(map(eval_rpn, patterns(play_num, operators)))"
   ]
  },
  {
   "cell_type": "code",
   "execution_count": null,
   "id": "9fb506c9",
   "metadata": {},
   "outputs": [],
   "source": []
  },
  {
   "cell_type": "code",
   "execution_count": null,
   "id": "f6f31d43",
   "metadata": {},
   "outputs": [],
   "source": []
  },
  {
   "cell_type": "markdown",
   "id": "cbb9b1a0",
   "metadata": {},
   "source": [
    "## Explanation of the functional aspects of the code"
   ]
  },
  {
   "cell_type": "markdown",
   "id": "a9530118",
   "metadata": {},
   "source": []
  },
  {
   "cell_type": "markdown",
   "id": "9ce8d70f",
   "metadata": {},
   "source": [
    "***"
   ]
  }
 ],
 "metadata": {
  "kernelspec": {
   "display_name": "Python 3",
   "language": "python",
   "name": "python3"
  },
  "language_info": {
   "codemirror_mode": {
    "name": "ipython",
    "version": 3
   },
   "file_extension": ".py",
   "mimetype": "text/x-python",
   "name": "python",
   "nbconvert_exporter": "python",
   "pygments_lexer": "ipython3",
   "version": "3.8.8"
  }
 },
 "nbformat": 4,
 "nbformat_minor": 5
}
