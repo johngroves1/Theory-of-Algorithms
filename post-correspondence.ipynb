{
 "cells": [
  {
   "cell_type": "markdown",
   "id": "7809c546",
   "metadata": {},
   "source": [
    "# Post Correspondence Problem"
   ]
  },
  {
   "cell_type": "markdown",
   "id": "aefe5cb0",
   "metadata": {},
   "source": [
    "***"
   ]
  },
  {
   "cell_type": "markdown",
   "id": "94fefd9e",
   "metadata": {},
   "source": [
    "## Definition and explanation of the Post Correspondence Problem"
   ]
  },
  {
   "cell_type": "markdown",
   "id": "69c50ec3",
   "metadata": {},
   "source": [
    "The [Post correspondence problem](https://en.wikipedia.org/wiki/Post_correspondence_problem) is an undecidable decision problem that was introduced by Emil Post in 1946."
   ]
  },
  {
   "cell_type": "markdown",
   "id": "7db4661c",
   "metadata": {},
   "source": [
    "## The Problem"
   ]
  },
  {
   "cell_type": "markdown",
   "id": "e52d11ae",
   "metadata": {},
   "source": [
    "In this problem we have two lists both containing N words. The aim of the problem is to find out a concatenation of these words in some sequence so that both lists yield the same result.\n"
   ]
  },
  {
   "cell_type": "code",
   "execution_count": 5,
   "id": "7e5c12b5",
   "metadata": {},
   "outputs": [],
   "source": [
    "#  The first list.\n",
    "L1 = ['a', 'ab', 'bba']"
   ]
  },
  {
   "cell_type": "code",
   "execution_count": 6,
   "id": "2073eb88",
   "metadata": {},
   "outputs": [],
   "source": [
    "# The second list.\n",
    "L2 = ['baa', 'aa', 'bb']"
   ]
  },
  {
   "cell_type": "markdown",
   "id": "dd25a9dd",
   "metadata": {},
   "source": [
    "As you can see both lists __L1__ and __L2__ have different stored values. However by using a sequence $S$, which is a list of integers we can see both lists do correspond to each other."
   ]
  },
  {
   "cell_type": "code",
   "execution_count": 25,
   "id": "4040ae4b",
   "metadata": {},
   "outputs": [],
   "source": [
    "# Sequence for lists above.\n",
    "S = [2, 1, 2, 0]"
   ]
  },
  {
   "cell_type": "code",
   "execution_count": 26,
   "id": "851fc9eb",
   "metadata": {},
   "outputs": [],
   "source": [
    "# Apply the proposed solution to each list.\n",
    "def apply(S, L):\n",
    "    S_on_L = [''.join(L[i]) for i in S]\n",
    "    return ''.join(S_on_L)"
   ]
  },
  {
   "cell_type": "code",
   "execution_count": 27,
   "id": "9bf67bca",
   "metadata": {
    "scrolled": true
   },
   "outputs": [
    {
     "data": {
      "text/plain": [
       "'bbaabbbaa'"
      ]
     },
     "execution_count": 27,
     "metadata": {},
     "output_type": "execute_result"
    }
   ],
   "source": [
    "# Apply sequence S to L1.\n",
    "apply(S, L1)"
   ]
  },
  {
   "cell_type": "code",
   "execution_count": 28,
   "id": "e6014653",
   "metadata": {
    "scrolled": false
   },
   "outputs": [
    {
     "data": {
      "text/plain": [
       "'bbaabbbaa'"
      ]
     },
     "execution_count": 28,
     "metadata": {},
     "output_type": "execute_result"
    }
   ],
   "source": [
    "# Apply sequence S to L2.\n",
    "apply(S, L2)"
   ]
  },
  {
   "cell_type": "code",
   "execution_count": 29,
   "id": "ee6d0e13",
   "metadata": {
    "scrolled": true
   },
   "outputs": [
    {
     "data": {
      "text/plain": [
       "True"
      ]
     },
     "execution_count": 29,
     "metadata": {},
     "output_type": "execute_result"
    }
   ],
   "source": [
    "# Get Python to verify if the proposed solution is a solution.\n",
    "apply(S, L1) == apply(S, L2)"
   ]
  },
  {
   "cell_type": "code",
   "execution_count": 30,
   "id": "11c5fa73",
   "metadata": {
    "scrolled": false
   },
   "outputs": [
    {
     "data": {
      "text/plain": [
       "True"
      ]
     },
     "execution_count": 30,
     "metadata": {},
     "output_type": "execute_result"
    }
   ],
   "source": [
    "# Another solution - there are infinitely many.\n",
    "apply((2, 1, 2, 0, 2, 1, 2, 0), L1) == apply((2, 1, 2, 0, 2, 1, 2, 0), L2)"
   ]
  },
  {
   "cell_type": "markdown",
   "id": "92fdc383",
   "metadata": {},
   "source": [
    "As you can see above, __L1__ and __L2__ corresponds to each other."
   ]
  },
  {
   "cell_type": "markdown",
   "id": "c9e84f65",
   "metadata": {},
   "source": [
    "### What if the lists have no correspondence?"
   ]
  },
  {
   "cell_type": "markdown",
   "id": "aca3bac9",
   "metadata": {},
   "source": [
    "Lets look at these two lists:"
   ]
  },
  {
   "cell_type": "code",
   "execution_count": 21,
   "id": "3e5295c9",
   "metadata": {},
   "outputs": [],
   "source": [
    "# The third list\n",
    "L3 = ['ab', 'bba']"
   ]
  },
  {
   "cell_type": "code",
   "execution_count": 22,
   "id": "8a72af5c",
   "metadata": {},
   "outputs": [],
   "source": [
    "# The fourth list \n",
    "L4 = ['aa', 'bb']"
   ]
  },
  {
   "cell_type": "markdown",
   "id": "d3973617",
   "metadata": {},
   "source": [
    "$S$ = ?"
   ]
  },
  {
   "cell_type": "markdown",
   "id": "6ed55618",
   "metadata": {},
   "source": [
    "The problem is $S$ can be an infinite length. We can try unlimited combinations of sequences but none will lead to a solution. Therefore this problem does not have a solution."
   ]
  },
  {
   "cell_type": "markdown",
   "id": "b0b6c272",
   "metadata": {},
   "source": [
    "## Definition and explanation of the Bounded Post Correspondence Problem"
   ]
  },
  {
   "cell_type": "code",
   "execution_count": null,
   "id": "a3430d27",
   "metadata": {},
   "outputs": [],
   "source": []
  },
  {
   "cell_type": "markdown",
   "id": "a2954a0f",
   "metadata": {},
   "source": [
    "## Function to solve the Bounded Post Correspondence Problem"
   ]
  },
  {
   "cell_type": "code",
   "execution_count": null,
   "id": "6b88459d",
   "metadata": {},
   "outputs": [],
   "source": []
  },
  {
   "cell_type": "markdown",
   "id": "f568ec15",
   "metadata": {},
   "source": [
    "## Explanation of what an undecidable problem is in computability theory"
   ]
  },
  {
   "cell_type": "code",
   "execution_count": null,
   "id": "5af333c9",
   "metadata": {},
   "outputs": [],
   "source": []
  },
  {
   "cell_type": "markdown",
   "id": "ab3e06fb",
   "metadata": {},
   "source": [
    "***"
   ]
  }
 ],
 "metadata": {
  "kernelspec": {
   "display_name": "Python 3",
   "language": "python",
   "name": "python3"
  },
  "language_info": {
   "codemirror_mode": {
    "name": "ipython",
    "version": 3
   },
   "file_extension": ".py",
   "mimetype": "text/x-python",
   "name": "python",
   "nbconvert_exporter": "python",
   "pygments_lexer": "ipython3",
   "version": "3.8.8"
  }
 },
 "nbformat": 4,
 "nbformat_minor": 5
}
