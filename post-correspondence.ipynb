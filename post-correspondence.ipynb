{
 "cells": [
  {
   "cell_type": "markdown",
   "id": "7809c546",
   "metadata": {},
   "source": [
    "# Post Correspondence Problem"
   ]
  },
  {
   "cell_type": "markdown",
   "id": "aefe5cb0",
   "metadata": {},
   "source": [
    "***"
   ]
  },
  {
   "cell_type": "markdown",
   "id": "94fefd9e",
   "metadata": {},
   "source": [
    "## Definition and explanation of the Post Correspondence Problem"
   ]
  },
  {
   "cell_type": "code",
   "execution_count": null,
   "id": "d1be741b",
   "metadata": {},
   "outputs": [],
   "source": []
  },
  {
   "cell_type": "markdown",
   "id": "b0b6c272",
   "metadata": {},
   "source": [
    "## Definition and explanation of the Bounded Post Correspondence Problem"
   ]
  },
  {
   "cell_type": "code",
   "execution_count": null,
   "id": "a3430d27",
   "metadata": {},
   "outputs": [],
   "source": []
  },
  {
   "cell_type": "markdown",
   "id": "a2954a0f",
   "metadata": {},
   "source": [
    "## Function to solve the Bounded Post Correspondence Problem"
   ]
  },
  {
   "cell_type": "code",
   "execution_count": null,
   "id": "6b88459d",
   "metadata": {},
   "outputs": [],
   "source": []
  },
  {
   "cell_type": "markdown",
   "id": "f568ec15",
   "metadata": {},
   "source": [
    "## Explanation of what an undecidable problem is in computability theory"
   ]
  },
  {
   "cell_type": "code",
   "execution_count": null,
   "id": "5af333c9",
   "metadata": {},
   "outputs": [],
   "source": []
  },
  {
   "cell_type": "markdown",
   "id": "ab3e06fb",
   "metadata": {},
   "source": [
    "***"
   ]
  }
 ],
 "metadata": {
  "kernelspec": {
   "display_name": "Python 3",
   "language": "python",
   "name": "python3"
  },
  "language_info": {
   "codemirror_mode": {
    "name": "ipython",
    "version": 3
   },
   "file_extension": ".py",
   "mimetype": "text/x-python",
   "name": "python",
   "nbconvert_exporter": "python",
   "pygments_lexer": "ipython3",
   "version": "3.8.8"
  }
 },
 "nbformat": 4,
 "nbformat_minor": 5
}
