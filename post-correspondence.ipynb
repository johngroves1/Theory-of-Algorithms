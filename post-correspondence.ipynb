{
 "cells": [
  {
   "cell_type": "markdown",
   "id": "7809c546",
   "metadata": {},
   "source": [
    "# Post Correspondence Problem"
   ]
  },
  {
   "cell_type": "markdown",
   "id": "aefe5cb0",
   "metadata": {},
   "source": [
    "***"
   ]
  },
  {
   "cell_type": "markdown",
   "id": "69c50ec3",
   "metadata": {},
   "source": [
    "The [Post correspondence problem](https://en.wikipedia.org/wiki/Post_correspondence_problem) is an undecidable decision problem that was introduced by Emil Post in 1946."
   ]
  },
  {
   "cell_type": "markdown",
   "id": "7db4661c",
   "metadata": {},
   "source": [
    "## The Problem"
   ]
  },
  {
   "cell_type": "markdown",
   "id": "e52d11ae",
   "metadata": {},
   "source": [
    "In this problem we have two lists both containing N words. The aim of the problem is to find out a concatenation of these words in some sequence so that both lists yield the same result.\n"
   ]
  },
  {
   "cell_type": "code",
   "execution_count": 1,
   "id": "7e5c12b5",
   "metadata": {},
   "outputs": [],
   "source": [
    "#  The first list.\n",
    "L1 = ['a', 'ab', 'bba']"
   ]
  },
  {
   "cell_type": "code",
   "execution_count": 2,
   "id": "2073eb88",
   "metadata": {},
   "outputs": [],
   "source": [
    "# The second list.\n",
    "L2 = ['baa', 'aa', 'bb']"
   ]
  },
  {
   "cell_type": "markdown",
   "id": "dd25a9dd",
   "metadata": {},
   "source": [
    "As you can see both lists __L1__ and __L2__ have different stored values. However by using a sequence $S$, which is a list of integers we can see both lists do correspond to each other."
   ]
  },
  {
   "cell_type": "code",
   "execution_count": 3,
   "id": "4040ae4b",
   "metadata": {},
   "outputs": [],
   "source": [
    "# Sequence for lists above.\n",
    "S = [2, 1, 2, 0]"
   ]
  },
  {
   "cell_type": "code",
   "execution_count": 4,
   "id": "851fc9eb",
   "metadata": {},
   "outputs": [],
   "source": [
    "# Apply the proposed solution to each list.\n",
    "def apply(S, L):\n",
    "    S_on_L = [''.join(L[i]) for i in S]\n",
    "    return ''.join(S_on_L)"
   ]
  },
  {
   "cell_type": "code",
   "execution_count": 5,
   "id": "9bf67bca",
   "metadata": {
    "scrolled": true
   },
   "outputs": [
    {
     "data": {
      "text/plain": [
       "'bbaabbbaa'"
      ]
     },
     "execution_count": 5,
     "metadata": {},
     "output_type": "execute_result"
    }
   ],
   "source": [
    "# Apply sequence S to L1.\n",
    "apply(S, L1)"
   ]
  },
  {
   "cell_type": "code",
   "execution_count": 6,
   "id": "e6014653",
   "metadata": {
    "scrolled": false
   },
   "outputs": [
    {
     "data": {
      "text/plain": [
       "'bbaabbbaa'"
      ]
     },
     "execution_count": 6,
     "metadata": {},
     "output_type": "execute_result"
    }
   ],
   "source": [
    "# Apply sequence S to L2.\n",
    "apply(S, L2)"
   ]
  },
  {
   "cell_type": "code",
   "execution_count": 7,
   "id": "ee6d0e13",
   "metadata": {
    "scrolled": true
   },
   "outputs": [
    {
     "data": {
      "text/plain": [
       "True"
      ]
     },
     "execution_count": 7,
     "metadata": {},
     "output_type": "execute_result"
    }
   ],
   "source": [
    "# Get Python to verify if the proposed solution is a solution.\n",
    "apply(S, L1) == apply(S, L2)"
   ]
  },
  {
   "cell_type": "code",
   "execution_count": 8,
   "id": "11c5fa73",
   "metadata": {
    "scrolled": false
   },
   "outputs": [
    {
     "data": {
      "text/plain": [
       "True"
      ]
     },
     "execution_count": 8,
     "metadata": {},
     "output_type": "execute_result"
    }
   ],
   "source": [
    "# Another solution - there are infinitely many.\n",
    "apply((2, 1, 2, 0, 2, 1, 2, 0), L1) == apply((2, 1, 2, 0, 2, 1, 2, 0), L2)"
   ]
  },
  {
   "cell_type": "markdown",
   "id": "92fdc383",
   "metadata": {},
   "source": [
    "As you can see above, __L1__ and __L2__ corresponds to each other."
   ]
  },
  {
   "cell_type": "markdown",
   "id": "c9e84f65",
   "metadata": {},
   "source": [
    "### What if the lists have no correspondence?"
   ]
  },
  {
   "cell_type": "markdown",
   "id": "aca3bac9",
   "metadata": {},
   "source": [
    "Lets look at these two lists:"
   ]
  },
  {
   "cell_type": "code",
   "execution_count": 9,
   "id": "3e5295c9",
   "metadata": {},
   "outputs": [],
   "source": [
    "# The third list\n",
    "L3 = ['ab', 'bba']"
   ]
  },
  {
   "cell_type": "code",
   "execution_count": 10,
   "id": "8a72af5c",
   "metadata": {},
   "outputs": [],
   "source": [
    "# The fourth list \n",
    "L4 = ['aa', 'bb']"
   ]
  },
  {
   "cell_type": "markdown",
   "id": "d3973617",
   "metadata": {},
   "source": [
    "$S$ = ?"
   ]
  },
  {
   "cell_type": "markdown",
   "id": "6ed55618",
   "metadata": {},
   "source": [
    "The problem is $S$ can be an infinite length. We can try unlimited combinations of sequences but none will lead to a solution. Therefore this problem does not have a solution."
   ]
  },
  {
   "cell_type": "markdown",
   "id": "7a1a5471",
   "metadata": {},
   "source": [
    "$$ (L_1, L_2) \\rightarrow \\{True, False\\} \\qquad |L_1| = |L_2| $$"
   ]
  },
  {
   "cell_type": "markdown",
   "id": "b0b6c272",
   "metadata": {},
   "source": [
    "<br>\n",
    "\n",
    "## Bounded Post Correspondence Problem\n",
    "***"
   ]
  },
  {
   "cell_type": "markdown",
   "id": "316d3ba3",
   "metadata": {},
   "source": [
    "The Bounded post correspondence problem is a variant of the post correspondence problem. This variant limits its search of a solution up to a limit of $K$ elements."
   ]
  },
  {
   "cell_type": "markdown",
   "id": "ddae037a",
   "metadata": {},
   "source": [
    "$$ |S| \\leq K \\qquad K \\in \\mathbb{N} $$"
   ]
  },
  {
   "cell_type": "markdown",
   "id": "b1460d58",
   "metadata": {},
   "source": [
    "Using the module itertools we can see every possible combination of a list up to a limit of $K$ elements. We can achieve this by using the itertools function __product__ which can get the [cartesian product](https://en.wikipedia.org/wiki/Cartesian_product) of input variables."
   ]
  },
  {
   "cell_type": "code",
   "execution_count": 11,
   "id": "43251c51",
   "metadata": {},
   "outputs": [],
   "source": [
    "# A very useful module in the Python standard library.\n",
    "import itertools as it"
   ]
  },
  {
   "cell_type": "code",
   "execution_count": 12,
   "id": "5f62612c",
   "metadata": {},
   "outputs": [],
   "source": [
    "# The bound for the bounded problem.\n",
    "K = 4\n",
    "# The generators.\n",
    "gens = []"
   ]
  },
  {
   "cell_type": "code",
   "execution_count": 13,
   "id": "9cd5ba4d",
   "metadata": {},
   "outputs": [
    {
     "name": "stdout",
     "output_type": "stream",
     "text": [
      "(0,)\n",
      "(1,)\n",
      "(0, 0)\n",
      "(0, 1)\n",
      "(1, 0)\n",
      "(1, 1)\n",
      "(0, 0, 0)\n",
      "(0, 0, 1)\n",
      "(0, 1, 0)\n",
      "(0, 1, 1)\n",
      "(1, 0, 0)\n",
      "(1, 0, 1)\n",
      "(1, 1, 0)\n",
      "(1, 1, 1)\n",
      "(0, 0, 0, 0)\n",
      "(0, 0, 0, 1)\n",
      "(0, 0, 1, 0)\n",
      "(0, 0, 1, 1)\n",
      "(0, 1, 0, 0)\n",
      "(0, 1, 0, 1)\n",
      "(0, 1, 1, 0)\n",
      "(0, 1, 1, 1)\n",
      "(1, 0, 0, 0)\n",
      "(1, 0, 0, 1)\n",
      "(1, 0, 1, 0)\n",
      "(1, 0, 1, 1)\n",
      "(1, 1, 0, 0)\n",
      "(1, 1, 0, 1)\n",
      "(1, 1, 1, 0)\n",
      "(1, 1, 1, 1)\n"
     ]
    }
   ],
   "source": [
    "# Loop through all possible solutions.\n",
    "for i in range(1, K+1):\n",
    "    # Create a generator for solutions of length i, append it to gens.\n",
    "    gens.append(it.product(*([range(len(L3))] * i)))\n",
    "\n",
    "# it.chain just chains generators together.\n",
    "for solution in it.chain(*gens):\n",
    "  print(solution)"
   ]
  },
  {
   "cell_type": "markdown",
   "id": "1cb7e45f",
   "metadata": {},
   "source": [
    "Here we can see every possible sequence $S$ of __L3__ up to $K$ elements. However the loop above, shows only the possible sequences $S$ of the list and not the concatenation of each solution. Below the function __cartesian_product__ takes in a list and returns the concatenation of each solution. "
   ]
  },
  {
   "cell_type": "code",
   "execution_count": 14,
   "id": "66bffdb6",
   "metadata": {},
   "outputs": [],
   "source": [
    "def cartesian_product(list, K):\n",
    "    combinations=[]\n",
    "    # Find cartesian product of list, repeat  \n",
    "    for i in range(1,K+1):\n",
    "        # Nested loop cycles through each possible solution to a limit of K\n",
    "        for combination in it.product(list, repeat = i):\n",
    "            # Concatenates each solution\n",
    "            combinationjoined=''.join(combination)\n",
    "            combinations.append(combinationjoined)\n",
    "    return combinations"
   ]
  },
  {
   "cell_type": "code",
   "execution_count": 15,
   "id": "3ad2db0c",
   "metadata": {},
   "outputs": [
    {
     "name": "stdout",
     "output_type": "stream",
     "text": [
      "['ab', 'bba', 'abab', 'abbba', 'bbaab', 'bbabba', 'ababab', 'ababbba', 'abbbaab', 'abbbabba', 'bbaabab', 'bbaabbba', 'bbabbaab', 'bbabbabba', 'abababab', 'abababbba', 'ababbbaab', 'ababbbabba', 'abbbaabab', 'abbbaabbba', 'abbbabbaab', 'abbbabbabba', 'bbaababab', 'bbaababbba', 'bbaabbbaab', 'bbaabbbabba', 'bbabbaabab', 'bbabbaabbba', 'bbabbabbaab', 'bbabbabbabba']\n"
     ]
    }
   ],
   "source": [
    "# All possible concatenations of L3 up to a K limit of 4\n",
    "print(cartesian_product(L3, 4))"
   ]
  },
  {
   "cell_type": "code",
   "execution_count": 16,
   "id": "64899554",
   "metadata": {
    "scrolled": true
   },
   "outputs": [
    {
     "data": {
      "text/plain": [
       "'bbabbabbabba'"
      ]
     },
     "execution_count": 16,
     "metadata": {},
     "output_type": "execute_result"
    }
   ],
   "source": [
    "# Applying the last sequence to L3\n",
    "apply((1, 1, 1, 1), L3)"
   ]
  },
  {
   "cell_type": "markdown",
   "id": "632974c0",
   "metadata": {},
   "source": [
    "As you can see the last sequence to __L3__ matches to the last cartesian product of __L3__."
   ]
  },
  {
   "cell_type": "markdown",
   "id": "a2954a0f",
   "metadata": {},
   "source": [
    "<br>\n",
    "\n",
    "## Function to solve the Bounded Post Correspondence Problem\n",
    "***"
   ]
  },
  {
   "cell_type": "code",
   "execution_count": 17,
   "id": "6b88459d",
   "metadata": {},
   "outputs": [],
   "source": [
    "# Write a solver for the bounded version.\n",
    "def bpcp_solver(L1, L2, K):\n",
    "    if correspond(L1, L2, K):\n",
    "        return True\n",
    "    else:\n",
    "        return False"
   ]
  },
  {
   "cell_type": "code",
   "execution_count": 18,
   "id": "caf149f2",
   "metadata": {},
   "outputs": [],
   "source": [
    "# Correspond needs to state whether a solution S of max length K exists.\n",
    "def correspond(L1, L2, K):\n",
    "    # Check if length of both lists are the same.\n",
    "    if len(L1) != len(L2):\n",
    "        print(\"Both lists must have the same length.\")\n",
    "        return False\n",
    "    # Iterates over the cartesian product of both lists in parallel using the python zip() function\n",
    "    for l1, l2 in zip(cartesian_product(L1,K), cartesian_product(L2,K)):\n",
    "        # If both lists have a matching concatenation return True\n",
    "        if l1 == l2:\n",
    "            print(\"Solution S of max length {} exists.\".format(K))\n",
    "            print(\"{} = {}\".format(l1, l2))\n",
    "            return True\n",
    "        # Otherwise return false\n",
    "    print(\"Solution S of max length {} does not exist\".format(K))\n",
    "    return False"
   ]
  },
  {
   "cell_type": "code",
   "execution_count": 19,
   "id": "53667b51",
   "metadata": {
    "scrolled": true
   },
   "outputs": [
    {
     "name": "stdout",
     "output_type": "stream",
     "text": [
      "Solution S of max length 4 exists.\n",
      "bbaabbbaa = bbaabbbaa\n",
      "True\n"
     ]
    }
   ],
   "source": [
    "print(bpcp_solver(L1, L2, 4))"
   ]
  },
  {
   "cell_type": "code",
   "execution_count": 20,
   "id": "c97909e9",
   "metadata": {},
   "outputs": [
    {
     "name": "stdout",
     "output_type": "stream",
     "text": [
      "Solution S of max length 4 does not exist\n",
      "False\n"
     ]
    }
   ],
   "source": [
    "print(correspond(L3, L4, 4))"
   ]
  },
  {
   "cell_type": "code",
   "execution_count": 21,
   "id": "22440213",
   "metadata": {},
   "outputs": [],
   "source": [
    "# Another example \n",
    "L5 = ['aa', 'bb', 'abb']\n",
    "L6 = ['aab', 'ba', 'b']"
   ]
  },
  {
   "cell_type": "code",
   "execution_count": 22,
   "id": "8821a2e5",
   "metadata": {},
   "outputs": [
    {
     "name": "stdout",
     "output_type": "stream",
     "text": [
      "Solution S of max length 4 exists.\n",
      "aabbaaabb = aabbaaabb\n",
      "True\n"
     ]
    }
   ],
   "source": [
    "print(bpcp_solver(L5, L6, 4))"
   ]
  },
  {
   "cell_type": "markdown",
   "id": "f568ec15",
   "metadata": {},
   "source": [
    "<br>\n",
    "\n",
    "## Explanation of what an undecidable problem is in computability theory\n",
    "***"
   ]
  },
  {
   "cell_type": "code",
   "execution_count": null,
   "id": "5af333c9",
   "metadata": {},
   "outputs": [],
   "source": []
  },
  {
   "cell_type": "markdown",
   "id": "ab3e06fb",
   "metadata": {},
   "source": [
    "***\n",
    "# End"
   ]
  }
 ],
 "metadata": {
  "kernelspec": {
   "display_name": "Python 3",
   "language": "python",
   "name": "python3"
  },
  "language_info": {
   "codemirror_mode": {
    "name": "ipython",
    "version": 3
   },
   "file_extension": ".py",
   "mimetype": "text/x-python",
   "name": "python",
   "nbconvert_exporter": "python",
   "pygments_lexer": "ipython3",
   "version": "3.8.8"
  }
 },
 "nbformat": 4,
 "nbformat_minor": 5
}
